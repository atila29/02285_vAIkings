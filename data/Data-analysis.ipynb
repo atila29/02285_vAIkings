{
 "cells": [
  {
   "cell_type": "code",
   "execution_count": 1,
   "metadata": {},
   "outputs": [
    {
     "name": "stdout",
     "output_type": "stream",
     "text": [
      "Requirement already satisfied: pandas in /home/mp/Documents/edu/dtu/master/4-sem/02285_ai_and_mas/02285_vAIkings/mas-env/lib/python3.8/site-packages (1.0.3)\n",
      "Requirement already satisfied: pytz>=2017.2 in /home/mp/Documents/edu/dtu/master/4-sem/02285_ai_and_mas/02285_vAIkings/mas-env/lib/python3.8/site-packages (from pandas) (2020.1)\n",
      "Requirement already satisfied: python-dateutil>=2.6.1 in /home/mp/Documents/edu/dtu/master/4-sem/02285_ai_and_mas/02285_vAIkings/mas-env/lib/python3.8/site-packages (from pandas) (2.8.1)\n",
      "Requirement already satisfied: numpy>=1.13.3 in /home/mp/Documents/edu/dtu/master/4-sem/02285_ai_and_mas/02285_vAIkings/mas-env/lib/python3.8/site-packages (from pandas) (1.18.4)\n",
      "Requirement already satisfied: six>=1.5 in /home/mp/Documents/edu/dtu/master/4-sem/02285_ai_and_mas/02285_vAIkings/mas-env/lib/python3.8/site-packages (from python-dateutil>=2.6.1->pandas) (1.14.0)\n",
      "\u001b[33mWARNING: You are using pip version 20.0.2; however, version 20.1.1 is available.\n",
      "You should consider upgrading via the '/home/mp/Documents/edu/dtu/master/4-sem/02285_ai_and_mas/02285_vAIkings/mas-env/bin/python -m pip install --upgrade pip' command.\u001b[0m\n"
     ]
    }
   ],
   "source": [
    "import sys\n",
    "!{sys.executable} -m pip install pandas"
   ]
  },
  {
   "cell_type": "code",
   "execution_count": 2,
   "metadata": {},
   "outputs": [],
   "source": [
    "import pandas as pd"
   ]
  },
  {
   "cell_type": "code",
   "execution_count": 3,
   "metadata": {},
   "outputs": [],
   "source": [
    "master_df = pd.read_csv(\"master-summary.csv\")\n",
    "staging_df = pd.read_csv(\"staging-summary.csv\")\n",
    "improvements_df = pd.read_csv(\"post_improvements-summary.csv\")"
   ]
  },
  {
   "cell_type": "code",
   "execution_count": null,
   "metadata": {},
   "outputs": [],
   "source": []
  }
 ],
 "metadata": {
  "kernelspec": {
   "display_name": "Python 3",
   "language": "python",
   "name": "python3"
  },
  "language_info": {
   "codemirror_mode": {
    "name": "ipython",
    "version": 3
   },
   "file_extension": ".py",
   "mimetype": "text/x-python",
   "name": "python",
   "nbconvert_exporter": "python",
   "pygments_lexer": "ipython3",
   "version": "3.8.2"
  }
 },
 "nbformat": 4,
 "nbformat_minor": 4
}
